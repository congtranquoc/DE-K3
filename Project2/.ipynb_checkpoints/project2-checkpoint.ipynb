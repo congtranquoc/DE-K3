{
 "cells": [
  {
   "cell_type": "code",
   "execution_count": 2,
   "id": "248f4c61",
   "metadata": {},
   "outputs": [],
   "source": [
    "import requests\n",
    "from bs4 import BeautifulSoup\n",
    "import re\n",
    "import csv"
   ]
  },
  {
   "cell_type": "code",
   "execution_count": 3,
   "id": "749b4886",
   "metadata": {},
   "outputs": [
    {
     "data": {
      "text/plain": [
       "119"
      ]
     },
     "execution_count": 3,
     "metadata": {},
     "output_type": "execute_result"
    }
   ],
   "source": [
    "csv_file = open(\"graphics_cards.csv\", \"w\", newline=\"\")\n",
    "csv_writer = csv.writer(csv_file)\n",
    "csv_writer.writerow(\n",
    "    [\"ItemID\", \n",
    "    \"Title\", \n",
    "    \"Branding\", \n",
    "    \"Rating\", \n",
    "    \"Number of Ratings\", \n",
    "    \"Price\", \n",
    "    \"Shipping\", \n",
    "    \"Image URL\", \n",
    "    \"Max Resolution\", \n",
    "    \"DisplayPort\", \n",
    "     \"HDMI\", \n",
    "     \"DirectX\", \n",
    "     \"Model\"])\n"
   ]
  },
  {
   "cell_type": "code",
   "execution_count": 4,
   "id": "d23a6b88",
   "metadata": {},
   "outputs": [],
   "source": [
    "\n",
    "#         item_features = soup.find(\"ul\", class_=\"item-features\")\n",
    "        \n",
    "#         max_resolution = item_features.find('strong', string='Max Resolution:')\n",
    "#         if max_resolution is not None:\n",
    "#             max_resolution = max_resolution.next_sibling.strip()\n",
    "#         else:\n",
    "#             max_resolution = None\n",
    "            \n",
    "#         display_port = item_features.find('strong', string='DisplayPort:')\n",
    "#         if display_port is not None:\n",
    "# #             display_port = display_port.next_sibling.strip().split(\"x\")[1].strip()\n",
    "#             display_port = display_port.next_sibling.strip()\n",
    "#         else:\n",
    "#             display_port = None\n",
    "            \n",
    "#         hdmi = item_features.find('strong', string='HDMI:')\n",
    "#         if hdmi is not None:\n",
    "# #             hdmi = hdmi.next_sibling.strip().strip().split(\"x\")[1].strip()\n",
    "#             hdmi = hdmi.next_sibling.strip().strip()\n",
    "#         else:\n",
    "#             hdmi = None\n",
    "            \n",
    "#         directx = item_features.find('strong', string='DirectX:')\n",
    "#         if directx is not None:\n",
    "#             directx = directx.next_sibling.strip()\n",
    "#         else:\n",
    "#             directx = None\n",
    "            \n",
    "#         model = item_features.find('strong', string='Model #: ')\n",
    "#         if model is not None:\n",
    "#             model = model.next_sibling.strip()\n",
    "#         else:\n",
    "#             model = None\n",
    "#         print(directx)"
   ]
  },
  {
   "cell_type": "code",
   "execution_count": 5,
   "id": "965ec368",
   "metadata": {},
   "outputs": [
    {
     "name": "stdout",
     "output_type": "stream",
     "text": [
      "sleep\n"
     ]
    },
    {
     "ename": "KeyboardInterrupt",
     "evalue": "",
     "output_type": "error",
     "traceback": [
      "\u001b[1;31m---------------------------------------------------------------------------\u001b[0m",
      "\u001b[1;31mKeyboardInterrupt\u001b[0m                         Traceback (most recent call last)",
      "Cell \u001b[1;32mIn[5], line 25\u001b[0m\n\u001b[0;32m     23\u001b[0m \u001b[38;5;28;01mif\u001b[39;00m page \u001b[38;5;241m%\u001b[39m page_limit \u001b[38;5;241m==\u001b[39m \u001b[38;5;241m1\u001b[39m:  \u001b[38;5;66;03m# Kiểm tra nếu là trang đầu tiên trong mỗi lần request\u001b[39;00m\n\u001b[0;32m     24\u001b[0m     \u001b[38;5;28mprint\u001b[39m(\u001b[38;5;124m\"\u001b[39m\u001b[38;5;124msleep\u001b[39m\u001b[38;5;124m\"\u001b[39m)\n\u001b[1;32m---> 25\u001b[0m     \u001b[43mtime\u001b[49m\u001b[38;5;241;43m.\u001b[39;49m\u001b[43msleep\u001b[49m\u001b[43m(\u001b[49m\u001b[43msleep_duration\u001b[49m\u001b[43m)\u001b[49m  \u001b[38;5;66;03m# Sleep trong 5 phút\u001b[39;00m\n\u001b[0;32m     26\u001b[0m url \u001b[38;5;241m=\u001b[39m \u001b[38;5;124mf\u001b[39m\u001b[38;5;124m\"\u001b[39m\u001b[38;5;124mhttps://www.newegg.com/GPUs-Video-Graphics-Cards/SubCategory/ID-48/Page-\u001b[39m\u001b[38;5;132;01m{\u001b[39;00mpage\u001b[38;5;132;01m}\u001b[39;00m\u001b[38;5;124m?Tid=7709\u001b[39m\u001b[38;5;124m\"\u001b[39m\n\u001b[0;32m     27\u001b[0m \u001b[38;5;28mprint\u001b[39m(\u001b[38;5;124m\"\u001b[39m\u001b[38;5;124mwakeup\u001b[39m\u001b[38;5;124m\"\u001b[39m)\n",
      "\u001b[1;31mKeyboardInterrupt\u001b[0m: "
     ]
    }
   ],
   "source": [
    "import time\n",
    "import random\n",
    "csv_writer = csv.writer(csv_file)\n",
    "page_limit = 9\n",
    "sleep_duration = 300  # Thời gian sleep (số giây)\n",
    "headers_list = [\n",
    "    \"Mozilla/5.0 (Windows NT 10.0; Win64; x64) AppleWebKit/537.36 (KHTML, like Gecko) Chrome/91.0.4472.124 Safari/537.36\",\n",
    "    \"Mozilla/5.0 (Windows NT 10.0; Win64; x64; rv:89.0) Gecko/20100101 Firefox/89.0\",\n",
    "    \"Mozilla/5.0 (Macintosh; Intel Mac OS X 10_15_7) AppleWebKit/537.36 (KHTML, like Gecko) Chrome/91.0.4472.124 Safari/537.36\",\n",
    "    \"Mozilla/5.0 (Windows NT 10.0; Win64; x64) AppleWebKit/537.36 (KHTML, like Gecko) Chrome/91.0.4472.124 Safari/537.36 Edg/91.0.864.37\",\n",
    "    \"Mozilla/5.0 (Windows NT 10.0; Win64; x64; rv:89.0) Gecko/20100101 Firefox/89.0\",\n",
    "    \"Mozilla/5.0 (Macintosh; Intel Mac OS X 10_15_7) AppleWebKit/537.36 (KHTML, like Gecko) Chrome/91.0.4472.124 Safari/537.36\",\n",
    "    \"Mozilla/5.0 (Windows NT 10.0; Win64; x64) AppleWebKit/537.36 (KHTML, like Gecko) Chrome/91.0.4472.124 Safari/537.36 Edg/91.0.864.37\",\n",
    "    \"Mozilla/5.0 (Windows NT 10.0; Win64; x64; rv:89.0) Gecko/20100101 Firefox/89.0\",\n",
    "    \"Mozilla/5.0 (Macintosh; Intel Mac OS X 10_15_7) AppleWebKit/537.36 (KHTML, like Gecko) Chrome/91.0.4472.124 Safari/537.36\",\n",
    "    \"Mozilla/5.0 (Windows NT 10.0; Win64; x64) AppleWebKit/537.36 (KHTML, like Gecko) Chrome/91.0.4472.124 Safari/537.36 Edg/91.0.864.37\",\n",
    "    # Thêm các User-Agent khác tùy ý vào danh sách này\n",
    "]\n",
    "for page in range(1, 28):\n",
    "    headers = {\n",
    "        \"User-Agent\": random.choice(headers_list)  # Chọn ngẫu nhiên một User-Agent từ danh sách\n",
    "    }\n",
    "    if page % page_limit == 1: # Kiểm tra nếu là trang đầu tiên trong mỗi lần request\n",
    "        print(\"sleep\")\n",
    "        time.sleep(sleep_duration)  # Sleep trong 5 phút\n",
    "    url = f\"https://www.newegg.com/GPUs-Video-Graphics-Cards/SubCategory/ID-48/Page-{page}?Tid=7709\"\n",
    "    print(\"wakeup\")\n",
    "    response = requests.get(url, headers=headers)\n",
    "    soup = BeautifulSoup(response.text, \"html.parser\")\n",
    "    #lấy mỗi div item\n",
    "    products = soup.find_all(\"div\", class_=\"item-cell\")\n",
    "    if products == []:\n",
    "        print(f\"Page {page} is null.\")\n",
    "    for product in products:\n",
    "        item_id = product.find(\"div\", class_=\"item-container\").get(\"id\")\n",
    "        title = product.find(\"a\", class_=\"item-title\").text.strip()\n",
    "        branding_element = product.find(\"a\", class_=\"item-brand\")\n",
    "        if branding_element:\n",
    "            branding = branding_element.img[\"title\"]\n",
    "        else:\n",
    "            branding = None\n",
    "        \n",
    "        rating_element = product.find(\"a\", class_=\"item-rating\")\n",
    "        if rating_element:\n",
    "            rating = rating_element.get(\"title\")\n",
    "            rating = re.search(r\"(\\d+(\\.\\d+)?)\", rating).group(1) if rating else None\n",
    "        else:\n",
    "            rating = None\n",
    "        \n",
    "        num_ratings_element = product.find(\"span\", class_=\"item-rating-num\")\n",
    "        if num_ratings_element:\n",
    "            num_ratings = re.search(r\"(\\d+)\", num_ratings_element.text).group(1) if num_ratings_element.text else None\n",
    "        else:\n",
    "            num_ratings = None\n",
    "\n",
    "        price_element = product.find(\"li\", class_=\"price-current\").text.strip()\n",
    "        price_match = re.search(r\"\\$(\\d{1,3}(,\\d{3})*(\\.\\d+)?)\", price_element)\n",
    "        if price_match is not None:\n",
    "            if price_match:\n",
    "                price = float(price_match.group(1).replace(',', ''))\n",
    "            else:\n",
    "                price = None\n",
    "        else:\n",
    "            price = None\n",
    "        shipping_element = product.find(\"li\", class_=\"price-ship\")\n",
    "        if shipping_element:\n",
    "            shipping = shipping_element.text.strip()\n",
    "        else:\n",
    "            shipping = None\n",
    "            \n",
    "        image_url = product.find(\"img\")[\"src\"]\n",
    "        \n",
    "        # Truy cập vào trang chi tiết sản phẩm để lấy thông tin chi tiết\n",
    "        details_url = product.find(\"a\", class_=\"item-img\")[\"href\"]\n",
    "        details_response = requests.get(details_url)\n",
    "        details_soup = BeautifulSoup(details_response.text, \"html.parser\")\n",
    "        \n",
    "        \n",
    "        # Tìm tất cả các bảng có class \"table-horizontal\"\n",
    "        tables = details_soup.find_all(\"table\", class_=\"table-horizontal\")\n",
    "\n",
    "        # Tạo một từ điển để lưu trữ thông tin\n",
    "        details = {}\n",
    "\n",
    "        # Lặp qua từng bảng để lấy thông tin\n",
    "        for table in tables:\n",
    "            caption = table.caption.get_text(strip=True)\n",
    "            if caption in [\"Model\", \"3D API\", \"Ports\", \"Details\"]:\n",
    "                rows = table.tbody.find_all(\"tr\")\n",
    "                for row in rows:\n",
    "                    th = row.th.get_text(strip=True)\n",
    "                    td = row.td.get_text(strip=True)\n",
    "                    if th in [\"Max Resolution\", \"DisplayPort\", \"HDMI\", \"DirectX\", \"Model\"]:\n",
    "                        details[th] = td\n",
    "\n",
    "        max_resolution = details.get(\"Max Resolution\", \"\")\n",
    "        display_port = details.get(\"DisplayPort\", \"\")\n",
    "        hdmi = details.get(\"HDMI\", \"\")\n",
    "        directx = details.get(\"DirectX\", \"\")\n",
    "        model = details.get(\"Model\", \"\")\n",
    "        csv_writer.writerow([item_id, title, branding, rating, num_ratings, price, shipping, image_url, max_resolution, display_port, hdmi, directx, model])\n",
    "    print(f\"Page {page} done.\")\n",
    "print(\"csv_writer done\")\n"
   ]
  },
  {
   "cell_type": "code",
   "execution_count": null,
   "id": "f58184bd",
   "metadata": {
    "scrolled": false
   },
   "outputs": [],
   "source": [
    "csv_file.close()"
   ]
  },
  {
   "cell_type": "code",
   "execution_count": null,
   "id": "8414d78a",
   "metadata": {},
   "outputs": [],
   "source": []
  },
  {
   "cell_type": "code",
   "execution_count": null,
   "id": "e13958ab",
   "metadata": {},
   "outputs": [],
   "source": []
  }
 ],
 "metadata": {
  "kernelspec": {
   "display_name": "Python 3 (ipykernel)",
   "language": "python",
   "name": "python3"
  },
  "language_info": {
   "codemirror_mode": {
    "name": "ipython",
    "version": 3
   },
   "file_extension": ".py",
   "mimetype": "text/x-python",
   "name": "python",
   "nbconvert_exporter": "python",
   "pygments_lexer": "ipython3",
   "version": "3.10.9"
  }
 },
 "nbformat": 4,
 "nbformat_minor": 5
}
